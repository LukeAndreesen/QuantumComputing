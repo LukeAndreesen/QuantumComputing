{
 "cells": [
  {
   "cell_type": "code",
   "execution_count": 3,
   "id": "8ec2c8e0",
   "metadata": {},
   "outputs": [],
   "source": [
    "from qiskit_ionq import IonQProvider\n",
    "from qiskit import QuantumCircuit"
   ]
  },
  {
   "cell_type": "code",
   "execution_count": 4,
   "id": "33c5485b",
   "metadata": {},
   "outputs": [],
   "source": [
    "provider = IonQProvider()\n",
    "backend = provider.get_backend('simulator')"
   ]
  },
  {
   "cell_type": "code",
   "execution_count": 5,
   "id": "440b84e8",
   "metadata": {},
   "outputs": [
    {
     "data": {
      "text/plain": [
       "<qiskit.circuit.instructionset.InstructionSet at 0x10fb2d240>"
      ]
     },
     "execution_count": 5,
     "metadata": {},
     "output_type": "execute_result"
    }
   ],
   "source": [
    "# Simple bell state circuit\n",
    "circuit = QuantumCircuit(2, 2)\n",
    "circuit.h(0)\n",
    "circuit.cx(0, 1)\n",
    "circuit.measure([0, 1], [0, 1])"
   ]
  },
  {
   "cell_type": "code",
   "execution_count": 10,
   "id": "bbe17f1e",
   "metadata": {},
   "outputs": [],
   "source": [
    "# Run the job for 10k shots on IonQ simulator \n",
    "job = backend.run(circuit, shots=10000)\n",
    "counts = job.get_counts()"
   ]
  },
  {
   "cell_type": "code",
   "execution_count": 11,
   "id": "8834933b",
   "metadata": {},
   "outputs": [
    {
     "name": "stdout",
     "output_type": "stream",
     "text": [
      "{'00': 4907, '11': 5093}\n"
     ]
    }
   ],
   "source": [
    "print(counts)"
   ]
  },
  {
   "cell_type": "code",
   "execution_count": null,
   "id": "47d87ddc",
   "metadata": {},
   "outputs": [],
   "source": []
  }
 ],
 "metadata": {
  "kernelspec": {
   "display_name": "Python 3 (ipykernel)",
   "language": "python",
   "name": "python3"
  },
  "language_info": {
   "codemirror_mode": {
    "name": "ipython",
    "version": 3
   },
   "file_extension": ".py",
   "mimetype": "text/x-python",
   "name": "python",
   "nbconvert_exporter": "python",
   "pygments_lexer": "ipython3",
   "version": "3.11.6"
  }
 },
 "nbformat": 4,
 "nbformat_minor": 5
}
