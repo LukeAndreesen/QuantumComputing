{
 "cells": [
  {
   "cell_type": "markdown",
   "id": "63ebbd70",
   "metadata": {},
   "source": [
    "This notebook is a tutorial of the qutip-cntrl quantum optimal control library, found [here](https://github.com/qutip/qutip-qtrl). I used [this](https://nbviewer.org/github/qutip/qutip-notebooks/blob/master/examples/control-pulseoptim-CRAB-2qubitInerac.ipynb) tutorial via [QuTiP](https://qutip.readthedocs.io/en/master/index.html) to explore the package. The goal here is to calculate control fields needed to transfer a 2-Qubit system from the state \n",
    "$$\n",
    "\\begin{pmatrix}\n",
    "1 & 0 & 0 & 0\n",
    "\\end{pmatrix}^\\top\n",
    "$$ to the state\n",
    "$$\n",
    "\\begin{pmatrix}\n",
    "0 & 0 & 0 & 1\n",
    "\\end{pmatrix}^\\top\n",
    "$$\n",
    "using the Chopped Random Basis\n",
    "[CRAB](https://journals.aps.org/prl/pdf/10.1103/PhysRevLett.106.190501) algorithm."
   ]
  },
  {
   "cell_type": "code",
   "execution_count": 58,
   "id": "a51c60cd",
   "metadata": {},
   "outputs": [],
   "source": [
    "%matplotlib inline\n",
    "import numpy as np\n",
    "import matplotlib.pyplot as plt\n",
    "import random\n",
    "import os\n",
    "import shutil"
   ]
  },
  {
   "cell_type": "code",
   "execution_count": 59,
   "id": "0659ea08",
   "metadata": {},
   "outputs": [],
   "source": [
    "from qutip import Qobj, identity, sigmax, sigmaz, core, tensor, identity\n",
    "#QuTiP control modules\n",
    "import qutip.control.pulseoptim as cpo"
   ]
  },
  {
   "cell_type": "code",
   "execution_count": 60,
   "id": "49604fcd",
   "metadata": {},
   "outputs": [],
   "source": [
    "# Random seed and create variables for Pauli matrices + identity matrix for ease of use \n",
    "random.seed(20)\n",
    "sx = sigmax()\n",
    "sz = sigmaz()\n",
    "I = identity(2)"
   ]
  },
  {
   "cell_type": "markdown",
   "id": "a4138347",
   "metadata": {},
   "source": [
    "We make use of the following combined Hamiltonian to our system:\n",
    "$$H(t) = H_0 + \\sum_{j=1}(u_1(t)H_{c_1} + u_2(t)H_{c_2})$$\n",
    "We define our control Hamiltonian, $H_c$, as z-rotations of the 2 qubits: $$H_c = \\sigma_z \\otimes \\sigma_z$$\n",
    "We define our drift Hamiltonian, $H_d$ as $$H_d = \\alpha_1(\\sigma_x \\otimes I) + \\alpha_2(I \\otimes \\sigma_x) + \\beta_1(\\sigma_z \\otimes I) + \\beta_2(I \\otimes \\sigma_z)$$\n",
    "where $\\alpha_i$, $\\beta_i$ are randomly initialized coefficients that are to be optimized."
   ]
  },
  {
   "cell_type": "code",
   "execution_count": 61,
   "id": "03bc7562",
   "metadata": {},
   "outputs": [],
   "source": [
    "# Define # of controls & Initialize coefficients as described above to be optimized, \n",
    "n_cntrl = 2\n",
    "alpha = [random.random()] * n_cntrl\n",
    "beta = [random.random()] * n_cntrl"
   ]
  },
  {
   "cell_type": "code",
   "execution_count": 62,
   "id": "c9fc6d6f",
   "metadata": {},
   "outputs": [],
   "source": [
    "# Control Hamiltonian\n",
    "H_c = [tensor(sz, sz)]\n",
    "# Drift Hamiltonian\n",
    "H_d = (alpha[0]*tensor(sx, I)) + (alpha[1]*tensor(I, sx)) + (beta[0]*tensor(sz, I)) + (beta[1]*tensor(I,sz))"
   ]
  },
  {
   "cell_type": "code",
   "execution_count": 63,
   "id": "07d93cee",
   "metadata": {},
   "outputs": [],
   "source": [
    "# Initial and target states for qubit 1 and 2 (q1, q2)\n",
    "q1_0 = Qobj([[1], [0]]) # Qubit 1 initial state\n",
    "q2_0 = Qobj([[1], [0]]) # Qubit 2 initial state\n",
    "q1_t = Qobj([[0], [1]]) # Qubit 1 target state\n",
    "q2_t = Qobj([[0], [1]]) # Qubit 2 target state\n",
    "psi_0 = tensor(q1_0, q2_0) # combined initial state\n",
    "psi_t = tensor(q1_t, q2_t) # combined targetr state"
   ]
  },
  {
   "cell_type": "code",
   "execution_count": 64,
   "id": "b6d8e215",
   "metadata": {},
   "outputs": [],
   "source": [
    "# Define evolution parameters\n",
    "M = 100 # number of time slots\n",
    "T = 18 # total evolution time"
   ]
  },
  {
   "cell_type": "code",
   "execution_count": 65,
   "id": "c52918f9",
   "metadata": {},
   "outputs": [],
   "source": [
    "# Define thresholds for process termination\n",
    "fidelity_threshold = 1e-3 # fidelity error threshold\n",
    "max_iterations = 500\n",
    "max_time = 120 # (seconds)"
   ]
  },
  {
   "cell_type": "code",
   "execution_count": 66,
   "id": "438edb2f",
   "metadata": {},
   "outputs": [],
   "source": [
    "# Define pulse type (qutip-control options are: RND, DEF, LIN, ZERO, SINE, SQUARE, TRIANGLE, SAW)\n",
    "pulse_type = 'DEF'"
   ]
  },
  {
   "cell_type": "code",
   "execution_count": 67,
   "id": "e1dfe1d3",
   "metadata": {},
   "outputs": [],
   "source": [
    "# Create an output file extension using our parameters\n",
    "output_file_extension = f\"CRAB_M_{M}_T_{T}_Pulse_{pulse_type}.txt\""
   ]
  },
  {
   "cell_type": "code",
   "execution_count": 68,
   "id": "607931d4",
   "metadata": {},
   "outputs": [],
   "source": [
    "# Run optimization with qutip-ctrl\n",
    "result = cpo.opt_pulse_crab_unitary(H_d, H_c, psi_0, psi_t, M, T, fid_err_targ=fidelity_threshold, \n",
    "            max_iter=max_iterations, max_wall_time=max_time, init_coeff_scaling=5.0, num_coeffs=5, \n",
    "            method_params={'xtol':1e-3}, guess_pulse_type=None, guess_pulse_action='modulate',\n",
    "            out_file_ext=output_file_extension, gen_stats=True)"
   ]
  },
  {
   "cell_type": "code",
   "execution_count": 69,
   "id": "50719114",
   "metadata": {},
   "outputs": [
    {
     "data": {
      "text/plain": [
       "'/Users/lukeandreesen/quantum_computing/quantum_optimal_control/optim_results/CRAB/ctrl_amps_final_CRAB_M_100_T_18_Pulse_DEF.txt'"
      ]
     },
     "execution_count": 69,
     "metadata": {},
     "output_type": "execute_result"
    }
   ],
   "source": [
    "# Housekeeping - Reorganize files (QuTiP-control enforces a specific filepath)\n",
    "working_dir = os.getcwd() + '/' # get working directory\n",
    "# Get initial amplitudes output file\n",
    "initial_path_pre = 'ctrl_amps_initial_'\n",
    "initial_source = working_dir + initial_path_pre + output_file_extension\n",
    "# Get final amplitudes output file\n",
    "final_path_pre = 'ctrl_amps_final_'\n",
    "# Move both optimization output files to result directory\n",
    "final_source = working_dir + final_path_pre + output_file_extension\n",
    "destination = working_dir + 'optim_results/CRAB/'\n",
    "shutil.move(initial_source, destination)\n",
    "shutil.move(final_source, destination)"
   ]
  },
  {
   "cell_type": "code",
   "execution_count": null,
   "id": "5d9a983b",
   "metadata": {},
   "outputs": [],
   "source": []
  }
 ],
 "metadata": {
  "kernelspec": {
   "display_name": "Python 3 (ipykernel)",
   "language": "python",
   "name": "python3"
  },
  "language_info": {
   "codemirror_mode": {
    "name": "ipython",
    "version": 3
   },
   "file_extension": ".py",
   "mimetype": "text/x-python",
   "name": "python",
   "nbconvert_exporter": "python",
   "pygments_lexer": "ipython3",
   "version": "3.11.6"
  }
 },
 "nbformat": 4,
 "nbformat_minor": 5
}
