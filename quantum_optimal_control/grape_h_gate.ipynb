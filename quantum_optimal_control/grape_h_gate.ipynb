{
 "cells": [
  {
   "cell_type": "markdown",
   "id": "73f818cc",
   "metadata": {},
   "source": [
    "This notebook is a tutorial of the qutip-cntrl quantum optimal control library, found [here](https://github.com/qutip/qutip-qtrl). I used [this](https://nbviewer.org/github/qutip/qutip-notebooks/blob/master/examples/control-pulseoptim-Hadamard.ipynb) tutorial via [QuTiP](https://qutip.readthedocs.io/en/master/index.html) to explore the package. The goal here is to calculate control amplitudes needed to implement a single-qubit Hadamard gate using the well-known [GRAPE](https://www.sciencedirect.com/science/article/abs/pii/S1090780704003696) algorithm, which uses gradient ascent to optimize constant control fields across discrete time interals."
   ]
  },
  {
   "cell_type": "code",
   "execution_count": 10,
   "id": "10b7e0b8",
   "metadata": {},
   "outputs": [],
   "source": [
    "%matplotlib inline\n",
    "import numpy as np\n",
    "import matplotlib.pyplot as plt\n",
    "import datetime\n",
    "import os\n",
    "import shutil"
   ]
  },
  {
   "cell_type": "code",
   "execution_count": 11,
   "id": "0b95e1d2",
   "metadata": {},
   "outputs": [],
   "source": [
    "from qutip import Qobj, identity, sigmax, sigmaz, core\n",
    "#QuTiP control modules\n",
    "import qutip.control.pulseoptim as cpo"
   ]
  },
  {
   "cell_type": "code",
   "execution_count": 12,
   "id": "a411a939",
   "metadata": {},
   "outputs": [],
   "source": [
    "# Defining physics notation\n",
    "H_d = sigmaz() # drift Hamiltonian\n",
    "H_c = [sigmax()] # control Hamiltonian\n",
    "U_0 = identity(2) # initial Gate\n",
    "U_tg = core.gates.hadamard_transform(1) # target Gate (Hadamard)"
   ]
  },
  {
   "cell_type": "code",
   "execution_count": 13,
   "id": "8b24ba92",
   "metadata": {},
   "outputs": [],
   "source": [
    "# Defining Parameters\n",
    "M = 10 # number of time intervals\n",
    "T = 10 # total evolution time"
   ]
  },
  {
   "cell_type": "code",
   "execution_count": 14,
   "id": "e109b0dc",
   "metadata": {},
   "outputs": [],
   "source": [
    "# Defining fidelity threshold, iterations/time limit, and gradient minimum\n",
    "threshold = 1e-10 # fidelity theshold\n",
    "max_iter = 300 # max iterations\n",
    "max_time = 120 # max time (seconds)\n",
    "min_grad = 1e-20 # min of gradient should approach 0 - stop when we're close to 0"
   ]
  },
  {
   "cell_type": "code",
   "execution_count": 15,
   "id": "cdfd1b5e",
   "metadata": {},
   "outputs": [],
   "source": [
    "# Define pulse type (qutip-control options are: RND, LIN, ZERO, SINE, SQUARE, TRIANGLE, SAW)\n",
    "pulse_type = 'RND'"
   ]
  },
  {
   "cell_type": "code",
   "execution_count": 16,
   "id": "1c07241a",
   "metadata": {},
   "outputs": [],
   "source": [
    "# Create an output file extension using our parameters\n",
    "output_file_extension = f\"M_{M}_T_{T}_Pulse_{pulse_type}.txt\""
   ]
  },
  {
   "cell_type": "code",
   "execution_count": 17,
   "id": "e4ae0a32",
   "metadata": {},
   "outputs": [],
   "source": [
    "# Run GRAPE optimization algorithm (https://qutip.org/docs/4.0.2/modules/qutip/control/pulseoptim.html)\n",
    "result = cpo.optimize_pulse_unitary(\n",
    "    H_d, H_c, U_0, U_tg, M, T, fid_err_targ=threshold, min_grad=min_grad, max_iter=max_iter, \n",
    "    max_wall_time=max_time, init_pulse_type=pulse_type, gen_stats=True, out_file_ext=output_file_extension\n",
    ")"
   ]
  },
  {
   "cell_type": "code",
   "execution_count": 18,
   "id": "e44faac1",
   "metadata": {},
   "outputs": [
    {
     "data": {
      "text/plain": [
       "'/Users/lukeandreesen/quantum_computing/quantum_optimal_control/optim_results/GRAPE/ctrl_amps_final_M_10_T_10_Pulse_RND.txt'"
      ]
     },
     "execution_count": 18,
     "metadata": {},
     "output_type": "execute_result"
    }
   ],
   "source": [
    "# Housekeeping - Reorganize files (QuTiP-control enforces a specific filepath)\n",
    "working_dir = os.getcwd() + '/' # get working directory\n",
    "# Get initial amplitudes output file\n",
    "initial_path_pre = 'ctrl_amps_initial_'\n",
    "initial_source = working_dir + initial_path_pre + output_file_extension\n",
    "# Get final amplitudes output file\n",
    "final_path_pre = 'ctrl_amps_final_'\n",
    "# Move both optimization output files to result directory\n",
    "final_source = working_dir + final_path_pre + output_file_extension\n",
    "destination = working_dir + 'optim_results/GRAPE/'\n",
    "shutil.move(initial_source, destination)\n",
    "shutil.move(final_source, destination)"
   ]
  },
  {
   "cell_type": "code",
   "execution_count": null,
   "id": "b8283519",
   "metadata": {},
   "outputs": [],
   "source": []
  }
 ],
 "metadata": {
  "kernelspec": {
   "display_name": "Python 3 (ipykernel)",
   "language": "python",
   "name": "python3"
  },
  "language_info": {
   "codemirror_mode": {
    "name": "ipython",
    "version": 3
   },
   "file_extension": ".py",
   "mimetype": "text/x-python",
   "name": "python",
   "nbconvert_exporter": "python",
   "pygments_lexer": "ipython3",
   "version": "3.11.6"
  }
 },
 "nbformat": 4,
 "nbformat_minor": 5
}
