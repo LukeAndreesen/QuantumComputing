{
 "cells": [
  {
   "cell_type": "code",
   "execution_count": null,
   "id": "4ffa74a5",
   "metadata": {},
   "outputs": [],
   "source": [
    "from qiskit_ionq import IonQProvider # import IonQ backend\n",
    "from qiskit import QuantumCircuit "
   ]
  },
  {
   "cell_type": "code",
   "execution_count": null,
   "id": "d33d45e0",
   "metadata": {},
   "outputs": [],
   "source": [
    "# Initialize backend (simulated)\n",
    "provider = IonQProvider()\n",
    "backend = provider.get_backend('simulator') "
   ]
  }
 ],
 "metadata": {
  "kernelspec": {
   "display_name": "Python 3 (ipykernel)",
   "language": "python",
   "name": "python3"
  },
  "language_info": {
   "codemirror_mode": {
    "name": "ipython",
    "version": 3
   },
   "file_extension": ".py",
   "mimetype": "text/x-python",
   "name": "python",
   "nbconvert_exporter": "python",
   "pygments_lexer": "ipython3",
   "version": "3.11.6"
  }
 },
 "nbformat": 4,
 "nbformat_minor": 5
}
